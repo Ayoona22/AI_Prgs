{
 "cells": [
  {
   "cell_type": "code",
   "execution_count": 23,
   "id": "2ee08711-cb12-49ad-a483-2082759e7f76",
   "metadata": {},
   "outputs": [],
   "source": [
    "graph={'wa':['nt','sa'],\n",
    "       'nt':['wa','sa','q'],\n",
    "       'sa':['wa','nt','q','nsw','v'],\n",
    "       'q':['nt','sa','nsw'],\n",
    "       'nsw':['q','sa','v'],\n",
    "       'v':['sa','nsw'],\n",
    "       't':[]}"
   ]
  },
  {
   "cell_type": "code",
   "execution_count": 29,
   "id": "966c818d-29f9-4355-a424-15437bb0632b",
   "metadata": {},
   "outputs": [],
   "source": [
    "colors=['red','green','blue']\n",
    "colored={}"
   ]
  },
  {
   "cell_type": "code",
   "execution_count": 35,
   "id": "9aa359de-ca03-46e7-abb1-e028c417eb9f",
   "metadata": {},
   "outputs": [
    {
     "name": "stdout",
     "output_type": "stream",
     "text": [
      "{'wa': 'red', 'nt': 'green', 'sa': 'blue', 'q': 'red', 'nsw': 'green', 'v': 'red', 't': 'red'}\n"
     ]
    }
   ],
   "source": [
    "def isTaken(color,curr):\n",
    "    for i in graph[curr]:\n",
    "        if colored.get(i)==color:\n",
    "            return False\n",
    "    return True\n",
    "def selectClr(curr):\n",
    "    for i in colors:\n",
    "        if isTaken(i,curr):\n",
    "            return i\n",
    "    return None\n",
    "for i in graph:\n",
    "    colored[i]=selectClr(i)\n",
    "print(colored)"
   ]
  }
 ],
 "metadata": {
  "kernelspec": {
   "display_name": "Python 3 (ipykernel)",
   "language": "python",
   "name": "python3"
  },
  "language_info": {
   "codemirror_mode": {
    "name": "ipython",
    "version": 3
   },
   "file_extension": ".py",
   "mimetype": "text/x-python",
   "name": "python",
   "nbconvert_exporter": "python",
   "pygments_lexer": "ipython3",
   "version": "3.12.4"
  }
 },
 "nbformat": 4,
 "nbformat_minor": 5
}
