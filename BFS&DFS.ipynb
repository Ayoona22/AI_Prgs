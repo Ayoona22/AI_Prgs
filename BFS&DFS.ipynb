{
 "cells": [
  {
   "cell_type": "code",
   "execution_count": 12,
   "id": "a9d1df47-8074-46c0-8c6d-5e10719e660d",
   "metadata": {},
   "outputs": [
    {
     "name": "stdin",
     "output_type": "stream",
     "text": [
      "Enter no of edges :  6\n"
     ]
    },
    {
     "name": "stdout",
     "output_type": "stream",
     "text": [
      "Enter adjacent nodes\n"
     ]
    },
    {
     "name": "stdin",
     "output_type": "stream",
     "text": [
      " A B\n",
      " A C\n",
      " B D\n",
      " B E\n",
      " C F\n",
      " E F\n"
     ]
    },
    {
     "name": "stdout",
     "output_type": "stream",
     "text": [
      "{'A': ['B', 'C'], 'B': ['A', 'D', 'E'], 'C': ['A', 'F'], 'D': ['B'], 'E': ['B', 'F'], 'F': ['C', 'E']}\n"
     ]
    }
   ],
   "source": [
    "def readInputs(graph):\n",
    "    e=int(input('Enter no of edges : '))\n",
    "    print('Enter adjacent nodes')\n",
    "    for _ in range(0,e):\n",
    "        u,v=input().split()\n",
    "        if u not in graph:\n",
    "            graph[u]=[]\n",
    "            graph[u].append(v)\n",
    "        else:\n",
    "            graph[u].append(v)\n",
    "        if v not in graph:\n",
    "            graph[v]=[]\n",
    "            graph[v].append(u)\n",
    "        else:\n",
    "            graph[v].append(u)\n",
    "    print(graph)\n",
    "graph={}\n",
    "readInputs(graph)"
   ]
  },
  {
   "cell_type": "code",
   "execution_count": 34,
   "id": "aa4ced02-3949-4387-a506-01014750f5bb",
   "metadata": {},
   "outputs": [
    {
     "name": "stdin",
     "output_type": "stream",
     "text": [
      "Start node :  C\n"
     ]
    },
    {
     "name": "stdout",
     "output_type": "stream",
     "text": [
      "BFS\n",
      "C A F B E D "
     ]
    }
   ],
   "source": [
    "def bfs(graph,s,q,visited):\n",
    "    for i in graph[s]:\n",
    "        if i not in visited:\n",
    "            q.append(i)\n",
    "            visited.append(i)\n",
    "    ele=q.pop(0)\n",
    "    print(ele,end=' ')\n",
    "    if q:\n",
    "        bfs(graph,q[0],q,visited)\n",
    "s=input('Start node : ')\n",
    "q=[s]\n",
    "visited=[s]\n",
    "print('BFS')\n",
    "bfs(graph,s,q,visited)"
   ]
  },
  {
   "cell_type": "code",
   "execution_count": 36,
   "id": "465ff36e-ed4d-4dea-ab7f-b2926ff158a1",
   "metadata": {},
   "outputs": [
    {
     "name": "stdout",
     "output_type": "stream",
     "text": [
      "DFS\n",
      "['C', 'A', 'B', 'D', 'E', 'F']\n"
     ]
    }
   ],
   "source": [
    "def dfs(graph,s,visited):\n",
    "    for i in graph[s]:\n",
    "        if i not in visited:\n",
    "            visited.append(i)\n",
    "            dfs(graph,i,visited)\n",
    "print('DFS')\n",
    "visited=[s]\n",
    "dfs(graph,s,visited)\n",
    "print(visited)"
   ]
  }
 ],
 "metadata": {
  "kernelspec": {
   "display_name": "Python 3 (ipykernel)",
   "language": "python",
   "name": "python3"
  },
  "language_info": {
   "codemirror_mode": {
    "name": "ipython",
    "version": 3
   },
   "file_extension": ".py",
   "mimetype": "text/x-python",
   "name": "python",
   "nbconvert_exporter": "python",
   "pygments_lexer": "ipython3",
   "version": "3.12.4"
  }
 },
 "nbformat": 4,
 "nbformat_minor": 5
}
