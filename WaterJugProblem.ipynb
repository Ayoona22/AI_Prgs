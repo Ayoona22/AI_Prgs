{
 "cells": [
  {
   "cell_type": "code",
   "execution_count": 1,
   "id": "03b06266-5553-4d8e-8cc3-eea8b20fb536",
   "metadata": {},
   "outputs": [
    {
     "name": "stdin",
     "output_type": "stream",
     "text": [
      "Capacity of Cup A :  3\n",
      "Capacity of Cup B :  5\n",
      "Enter Goal :  4\n"
     ]
    }
   ],
   "source": [
    "a,b=int(input('Capacity of Cup A : ')),int(input('Capacity of Cup B : '))\n",
    "goal=int(input('Enter Goal : '))"
   ]
  },
  {
   "cell_type": "code",
   "execution_count": 15,
   "id": "d1f58243-0271-415a-be93-46d865b95ea8",
   "metadata": {},
   "outputs": [
    {
     "name": "stdout",
     "output_type": "stream",
     "text": [
      "Found\n",
      "(0, 0)\n",
      "(3, 0)\n",
      "(3, 5)\n",
      "(0, 5)\n",
      "(3, 2)\n",
      "(0, 2)\n",
      "(2, 0)\n",
      "(2, 5)\n",
      "(3, 4)\n"
     ]
    }
   ],
   "source": [
    "def waterJug():\n",
    "    actions=[('fill','A'),\n",
    "             ('fill','B'),\n",
    "             ('empty','A'),\n",
    "             ('empty','B'),\n",
    "             ('pour','A'),\n",
    "             ('pour','B')]\n",
    "    q=[(0,0)]\n",
    "    ans=[(0,0)]\n",
    "    while q:\n",
    "        J1,J2=j1,j2=q.pop(0)\n",
    "        if j1==goal or j2==goal:\n",
    "            print('Found')\n",
    "            for i in ans:\n",
    "                print(i)\n",
    "            return None\n",
    "            break\n",
    "        for act in actions:\n",
    "            if act[0]=='fill':\n",
    "                if act[1]=='A':\n",
    "                    J1=a\n",
    "                else:\n",
    "                    J2=b\n",
    "            elif act[0]=='empty':\n",
    "                if act[1]=='A':\n",
    "                    J1=0\n",
    "                else:\n",
    "                    J2=0\n",
    "            else:\n",
    "                if act[1]=='A':\n",
    "                    x=min(J1,b-J2)\n",
    "                    J1-=x\n",
    "                    J2+=x\n",
    "                else:\n",
    "                    x=min(J2,a-J1)\n",
    "                    J1+=x\n",
    "                    J2-=x\n",
    "            if (J1,J2) not in ans:\n",
    "                j1,j2=J1,J2\n",
    "                ans.append((j1,j2))\n",
    "                q.append((j1,j2))\n",
    "                break\n",
    "            else:\n",
    "                J1,J2=j1,j2\n",
    "    print('Failed')\n",
    "waterJug()"
   ]
  }
 ],
 "metadata": {
  "kernelspec": {
   "display_name": "Python 3 (ipykernel)",
   "language": "python",
   "name": "python3"
  },
  "language_info": {
   "codemirror_mode": {
    "name": "ipython",
    "version": 3
   },
   "file_extension": ".py",
   "mimetype": "text/x-python",
   "name": "python",
   "nbconvert_exporter": "python",
   "pygments_lexer": "ipython3",
   "version": "3.12.4"
  }
 },
 "nbformat": 4,
 "nbformat_minor": 5
}
