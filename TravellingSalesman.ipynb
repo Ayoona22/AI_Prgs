{
 "cells": [
  {
   "cell_type": "code",
   "execution_count": 3,
   "id": "86a52f6f-390b-4932-8528-07a11198f1f4",
   "metadata": {},
   "outputs": [
    {
     "name": "stdin",
     "output_type": "stream",
     "text": [
      "Enter no of edges :  8\n"
     ]
    },
    {
     "name": "stdout",
     "output_type": "stream",
     "text": [
      "Enter adjacent nodes\n"
     ]
    },
    {
     "name": "stdin",
     "output_type": "stream",
     "text": [
      " A B\n",
      " A D\n",
      " A E\n",
      " B C\n",
      " B E\n",
      " C E\n",
      " C D\n",
      " D E\n"
     ]
    },
    {
     "name": "stdout",
     "output_type": "stream",
     "text": [
      "{'A': ['B', 'D', 'E'], 'B': ['A', 'C', 'E'], 'D': ['A', 'C', 'E'], 'E': ['A', 'B', 'C', 'D'], 'C': ['B', 'E', 'D']}\n"
     ]
    }
   ],
   "source": [
    "def readInputs(graph):\n",
    "    n=int(input('Enter no of edges : '))\n",
    "    print('Enter adjacent nodes')\n",
    "    for _ in range(0,n):\n",
    "        u,v=input().split()\n",
    "        if u not in graph:\n",
    "            graph[u]=[]\n",
    "        graph[u].append(v)\n",
    "        if v not in graph:\n",
    "            graph[v]=[]\n",
    "        graph[v].append(u)\n",
    "    print(graph)\n",
    "graph={}\n",
    "readInputs(graph)"
   ]
  },
  {
   "cell_type": "code",
   "execution_count": 17,
   "id": "f2f4ecec-ac12-49e6-87a2-934d11581f92",
   "metadata": {},
   "outputs": [
    {
     "name": "stdin",
     "output_type": "stream",
     "text": [
      "Enter the distance between A and B :  7\n",
      "Enter the distance between A and D :  1\n",
      "Enter the distance between A and E :  1\n",
      "Enter the distance between B and A :  7\n",
      "Enter the distance between B and E :  8\n",
      "Enter the distance between B and C :  3\n",
      "Enter the distance between D and A :  1\n",
      "Enter the distance between D and E :  7\n",
      "Enter the distance between D and C :  6\n",
      "Enter the distance between E and A :  1\n",
      "Enter the distance between E and B :  8\n",
      "Enter the distance between E and D :  7\n",
      "Enter the distance between E and C :  2\n",
      "Enter the distance between C and B :  3\n",
      "Enter the distance between C and D :  6\n",
      "Enter the distance between C and E :  2\n"
     ]
    },
    {
     "name": "stdout",
     "output_type": "stream",
     "text": [
      "[[0, 7, 1, 1, 99999], [7, 0, 99999, 8, 3], [1, 99999, 0, 7, 6], [1, 8, 7, 0, 2], [99999, 3, 6, 2, 0]]\n"
     ]
    }
   ],
   "source": [
    "N=list(graph.keys())\n",
    "def createMat(adMat):\n",
    "    for i in N:\n",
    "        b=[]\n",
    "        for j in N:\n",
    "            if i==j:\n",
    "                b.append(0)\n",
    "            elif j in graph[i]:\n",
    "                x=int(input('Enter the distance between '+i+' and '+j+' : '))\n",
    "                b.append(x)\n",
    "            else:\n",
    "                b.append(99999)\n",
    "        adMat.append(b)\n",
    "    return adMat\n",
    "adMat=[]\n",
    "adMat=createMat(adMat)\n",
    "print(adMat)"
   ]
  },
  {
   "cell_type": "code",
   "execution_count": 65,
   "id": "7a87325d-aedb-48f0-b386-219d970af913",
   "metadata": {},
   "outputs": [
    {
     "name": "stdin",
     "output_type": "stream",
     "text": [
      "Enter start node :  D\n"
     ]
    },
    {
     "name": "stdout",
     "output_type": "stream",
     "text": [
      "Shortest Path\n",
      "D-->C-->B-->E-->A-->D\n",
      "Cost =  19\n"
     ]
    }
   ],
   "source": [
    "from itertools import permutations\n",
    "start=input('Enter start node : ')\n",
    "per=list(permutations(N))\n",
    "paths=[]\n",
    "for i in per:\n",
    "    if i[0]==start:\n",
    "        paths.append(i)\n",
    "def findPath():\n",
    "    cost=99999\n",
    "    path=[]\n",
    "    for i in paths:\n",
    "        x=0\n",
    "        for j in range(0,len(i)-1):\n",
    "            x+=adMat[N.index(i[j])][N.index(i[j+1])]\n",
    "        x+=adMat[N.index(i[-1])][N.index(start)]\n",
    "        if x<=cost:\n",
    "            cost=x\n",
    "            path=i\n",
    "    print('Shortest Path')\n",
    "    for i in path:\n",
    "        print(i,end='-->')\n",
    "    print(start)\n",
    "    print('Cost = ',cost)\n",
    "findPath()"
   ]
  }
 ],
 "metadata": {
  "kernelspec": {
   "display_name": "Python 3 (ipykernel)",
   "language": "python",
   "name": "python3"
  },
  "language_info": {
   "codemirror_mode": {
    "name": "ipython",
    "version": 3
   },
   "file_extension": ".py",
   "mimetype": "text/x-python",
   "name": "python",
   "nbconvert_exporter": "python",
   "pygments_lexer": "ipython3",
   "version": "3.12.4"
  }
 },
 "nbformat": 4,
 "nbformat_minor": 5
}
