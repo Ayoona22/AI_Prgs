{
 "cells": [
  {
   "cell_type": "code",
   "execution_count": 1,
   "id": "512d3e10-9e78-4506-a05e-6a17df0a9fb7",
   "metadata": {},
   "outputs": [
    {
     "name": "stdin",
     "output_type": "stream",
     "text": [
      "Enter no of edges :  10\n"
     ]
    },
    {
     "name": "stdout",
     "output_type": "stream",
     "text": [
      "Enter adjacent nodes\n"
     ]
    },
    {
     "name": "stdin",
     "output_type": "stream",
     "text": [
      " A B\n",
      " A C\n",
      " A D\n",
      " B E\n",
      " C E\n",
      " C F\n",
      " D F\n",
      " E H\n",
      " F G\n",
      " G H\n",
      "Enter path cost A :  40\n",
      "Enter path cost B :  32\n",
      "Enter path cost C :  25\n",
      "Enter path cost D :  35\n",
      "Enter path cost E :  19\n",
      "Enter path cost F :  17\n",
      "Enter path cost H :  10\n",
      "Enter path cost G :  0\n"
     ]
    },
    {
     "name": "stdout",
     "output_type": "stream",
     "text": [
      "{'A': ['B', 'C', 'D'], 'B': ['A', 'E'], 'C': ['A', 'E', 'F'], 'D': ['A', 'F'], 'E': ['B', 'C', 'H'], 'F': ['C', 'D', 'G'], 'H': ['E', 'G'], 'G': ['F', 'H']}\n",
      "{'A': 40, 'B': 32, 'C': 25, 'D': 35, 'E': 19, 'F': 17, 'H': 10, 'G': 0}\n"
     ]
    }
   ],
   "source": [
    "def readInputs(graph):\n",
    "    e=int(input('Enter no of edges : '))\n",
    "    print('Enter adjacent nodes')\n",
    "    for _ in range(0,e):\n",
    "        u,v=input().split()\n",
    "        if u not in graph:\n",
    "            graph[u]=[]\n",
    "            graph[u].append(v)\n",
    "        else:\n",
    "            graph[u].append(v)\n",
    "        if v not in graph:\n",
    "            graph[v]=[]\n",
    "            graph[v].append(u)\n",
    "        else:\n",
    "            graph[v].append(u)\n",
    "graph={}\n",
    "readInputs(graph)\n",
    "def readCost(graph,hue):\n",
    "    for i in graph:\n",
    "        hue[i]=int(input('Enter path cost '+i+' : '))\n",
    "hue={}\n",
    "readCost(graph,hue)\n",
    "print(graph)\n",
    "print(hue)"
   ]
  },
  {
   "cell_type": "code",
   "execution_count": 3,
   "id": "8b1a6868-531a-4a28-aee2-fbf95c10f9b4",
   "metadata": {},
   "outputs": [
    {
     "name": "stdin",
     "output_type": "stream",
     "text": [
      "Enter start node :  A\n",
      "Enter end node :  G\n"
     ]
    },
    {
     "name": "stdout",
     "output_type": "stream",
     "text": [
      "A--->C--->F--->G\n"
     ]
    }
   ],
   "source": [
    "def greedy(graph,hue,visited,start,end):\n",
    "    temp=99999\n",
    "    j=''\n",
    "    for i in graph[start]:\n",
    "        if i==end:\n",
    "            global flag\n",
    "            flag=1\n",
    "            print(i)\n",
    "            return None\n",
    "        if hue[i]<=temp and i not in visited:\n",
    "            temp=hue[i]\n",
    "            j=i\n",
    "    visited.append(j)\n",
    "    print(j,end='--->')\n",
    "    greedy(graph,hue,visited,j,end)\n",
    "start=input('Enter start node : ')\n",
    "end=input('Enter end node : ')\n",
    "visited=[start]\n",
    "print(start,end='--->')\n",
    "flag=0\n",
    "greedy(graph,hue,visited,start,end)\n",
    "if flag==0:\n",
    "    print(\"Can't Found\")"
   ]
  },
  {
   "cell_type": "code",
   "execution_count": null,
   "id": "c469ee96-48fb-4369-8c6e-83255f2e583f",
   "metadata": {},
   "outputs": [],
   "source": []
  }
 ],
 "metadata": {
  "kernelspec": {
   "display_name": "Python 3 (ipykernel)",
   "language": "python",
   "name": "python3"
  },
  "language_info": {
   "codemirror_mode": {
    "name": "ipython",
    "version": 3
   },
   "file_extension": ".py",
   "mimetype": "text/x-python",
   "name": "python",
   "nbconvert_exporter": "python",
   "pygments_lexer": "ipython3",
   "version": "3.12.4"
  }
 },
 "nbformat": 4,
 "nbformat_minor": 5
}
